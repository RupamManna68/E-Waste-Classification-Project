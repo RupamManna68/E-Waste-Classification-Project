{
 "cells": [
  {
   "cell_type": "code",
   "execution_count": 1,
   "id": "ab2fa52b-0718-4e04-a8d5-ea669d21d62a",
   "metadata": {},
   "outputs": [
    {
     "ename": "KeyboardInterrupt",
     "evalue": "",
     "output_type": "error",
     "traceback": [
      "\u001b[31m---------------------------------------------------------------------------\u001b[39m",
      "\u001b[31mKeyboardInterrupt\u001b[39m                         Traceback (most recent call last)",
      "\u001b[36mCell\u001b[39m\u001b[36m \u001b[39m\u001b[32mIn[1]\u001b[39m\u001b[32m, line 29\u001b[39m\n\u001b[32m     27\u001b[39m         \u001b[38;5;28;01mif\u001b[39;00m os.path.exists(lbl_src):\n\u001b[32m     28\u001b[39m             \u001b[38;5;28;01mfor\u001b[39;00m file \u001b[38;5;129;01min\u001b[39;00m os.listdir(lbl_src):\n\u001b[32m---> \u001b[39m\u001b[32m29\u001b[39m                 \u001b[43mshutil\u001b[49m\u001b[43m.\u001b[49m\u001b[43mcopy\u001b[49m\u001b[43m(\u001b[49m\u001b[43mos\u001b[49m\u001b[43m.\u001b[49m\u001b[43mpath\u001b[49m\u001b[43m.\u001b[49m\u001b[43mjoin\u001b[49m\u001b[43m(\u001b[49m\u001b[43mlbl_src\u001b[49m\u001b[43m,\u001b[49m\u001b[43m \u001b[49m\u001b[43mfile\u001b[49m\u001b[43m)\u001b[49m\u001b[43m,\u001b[49m\u001b[43m \u001b[49m\u001b[43mos\u001b[49m\u001b[43m.\u001b[49m\u001b[43mpath\u001b[49m\u001b[43m.\u001b[49m\u001b[43mjoin\u001b[49m\u001b[43m(\u001b[49m\u001b[43mlbl_dst\u001b[49m\u001b[43m,\u001b[49m\u001b[43m \u001b[49m\u001b[43mfile\u001b[49m\u001b[43m)\u001b[49m\u001b[43m)\u001b[49m\n\u001b[32m     31\u001b[39m \u001b[38;5;28mprint\u001b[39m(\u001b[33m\"\u001b[39m\u001b[33m✅ Merge complete! Final dataset is at:\u001b[39m\u001b[33m\"\u001b[39m, output_path)\n",
      "\u001b[36mFile \u001b[39m\u001b[32m~\\AppData\\Local\\Programs\\Python\\Python311\\Lib\\shutil.py:431\u001b[39m, in \u001b[36mcopy\u001b[39m\u001b[34m(src, dst, follow_symlinks)\u001b[39m\n\u001b[32m    429\u001b[39m \u001b[38;5;28;01mif\u001b[39;00m os.path.isdir(dst):\n\u001b[32m    430\u001b[39m     dst = os.path.join(dst, os.path.basename(src))\n\u001b[32m--> \u001b[39m\u001b[32m431\u001b[39m \u001b[43mcopyfile\u001b[49m\u001b[43m(\u001b[49m\u001b[43msrc\u001b[49m\u001b[43m,\u001b[49m\u001b[43m \u001b[49m\u001b[43mdst\u001b[49m\u001b[43m,\u001b[49m\u001b[43m \u001b[49m\u001b[43mfollow_symlinks\u001b[49m\u001b[43m=\u001b[49m\u001b[43mfollow_symlinks\u001b[49m\u001b[43m)\u001b[49m\n\u001b[32m    432\u001b[39m copymode(src, dst, follow_symlinks=follow_symlinks)\n\u001b[32m    433\u001b[39m \u001b[38;5;28;01mreturn\u001b[39;00m dst\n",
      "\u001b[36mFile \u001b[39m\u001b[32m~\\AppData\\Local\\Programs\\Python\\Python311\\Lib\\shutil.py:256\u001b[39m, in \u001b[36mcopyfile\u001b[39m\u001b[34m(src, dst, follow_symlinks)\u001b[39m\n\u001b[32m    254\u001b[39m     os.symlink(os.readlink(src), dst)\n\u001b[32m    255\u001b[39m \u001b[38;5;28;01melse\u001b[39;00m:\n\u001b[32m--> \u001b[39m\u001b[32m256\u001b[39m     \u001b[38;5;28;01mwith\u001b[39;00m \u001b[38;5;28mopen\u001b[39m(src, \u001b[33m'\u001b[39m\u001b[33mrb\u001b[39m\u001b[33m'\u001b[39m) \u001b[38;5;28;01mas\u001b[39;00m fsrc:\n\u001b[32m    257\u001b[39m         \u001b[38;5;28;01mtry\u001b[39;00m:\n\u001b[32m    258\u001b[39m             \u001b[38;5;28;01mwith\u001b[39;00m \u001b[38;5;28mopen\u001b[39m(dst, \u001b[33m'\u001b[39m\u001b[33mwb\u001b[39m\u001b[33m'\u001b[39m) \u001b[38;5;28;01mas\u001b[39;00m fdst:\n\u001b[32m    259\u001b[39m                 \u001b[38;5;66;03m# macOS\u001b[39;00m\n",
      "\u001b[31mKeyboardInterrupt\u001b[39m: "
     ]
    }
   ],
   "source": [
    "import os\n",
    "import shutil\n",
    "\n",
    "dataset_paths = [\n",
    "    r\"C:\\Users\\Rupam Manna\\Desktop\\e_waste_yolov5\\dataset\\dataset_1\",\n",
    "    r\"C:\\Users\\Rupam Manna\\Desktop\\e_waste_yolov5\\dataset\\dataset_2\"\n",
    "]\n",
    "\n",
    "output_path = r\"C:\\Users\\Rupam Manna\\Desktop\\e_waste_yolov5\\merged_dataset\"\n",
    "\n",
    "splits = [\"train\", \"valid\", \"test\"]  # Will rename 'valid' to 'val' later\n",
    "for split in splits:\n",
    "    os.makedirs(os.path.join(output_path, \"images\", \"val\" if split == \"valid\" else split), exist_ok=True)\n",
    "    os.makedirs(os.path.join(output_path, \"labels\", \"val\" if split == \"valid\" else split), exist_ok=True)\n",
    "\n",
    "for dset in dataset_paths:\n",
    "    for split in splits:\n",
    "        new_split = \"val\" if split == \"valid\" else split\n",
    "        img_src = os.path.join(dset, split, \"images\")\n",
    "        lbl_src = os.path.join(dset, split, \"labels\")\n",
    "        img_dst = os.path.join(output_path, \"images\", new_split)\n",
    "        lbl_dst = os.path.join(output_path, \"labels\", new_split)\n",
    "\n",
    "        if os.path.exists(img_src):\n",
    "            for file in os.listdir(img_src):\n",
    "                shutil.copy(os.path.join(img_src, file), os.path.join(img_dst, file))\n",
    "        if os.path.exists(lbl_src):\n",
    "            for file in os.listdir(lbl_src):\n",
    "                shutil.copy(os.path.join(lbl_src, file), os.path.join(lbl_dst, file))\n",
    "\n",
    "print(\"✅ Merge complete! Final dataset is at:\", output_path)\n"
   ]
  },
  {
   "cell_type": "code",
   "execution_count": 2,
   "id": "a4997d73-3627-4f54-9fb8-7c0a8d255b8e",
   "metadata": {},
   "outputs": [
    {
     "name": "stdout",
     "output_type": "stream",
     "text": [
      "✅ Label files fixed and reindexed.\n"
     ]
    }
   ],
   "source": [
    "import os\n",
    "from pathlib import Path\n",
    "\n",
    "# Paths\n",
    "dataset_dir = Path(r\"C:\\Users\\Rupam Manna\\Desktop\\e_waste_yolov5\\merged_dataset\")\n",
    "\n",
    "# Final class list (MUST match data.yaml order)\n",
    "classes = [\n",
    "    'battery', 'electronic-waste', 'keyboard', 'laptop', 'mobile phone', 'monitor', 'mouse', 'pcb', 'printer',\n",
    "    'blood-pressure-monitor', 'boiler', 'clothes-iron', 'coffee-machine', 'cooling-display',\n",
    "    'desktop-pc', 'digital-oscilloscope', 'drone', 'electric-guitar', 'electronic-keyboard',\n",
    "    'flashlight', 'flat-panel-monitor', 'flat-panel-tv', 'glucose-meter', 'hdd', 'microwave',\n",
    "    'music-player', 'oven', 'photovoltaic-panel', 'projector', 'refrigerator', 'rotary-mower',\n",
    "    'router', 'server', 'smartphone', 'smoke-detector', 'straight-tube-fluorescent-lamp',\n",
    "    'street-lamp', 'tv-remote-control', 'telephone-set', 'usb-flash-drive', 'washing-machine'\n",
    "]\n",
    "\n",
    "# Map lowercase name → new index\n",
    "class_to_index = {name: i for i, name in enumerate(classes)}\n",
    "\n",
    "# Fix all .txt label files\n",
    "def fix_labels(labels_path):\n",
    "    for txt_file in labels_path.rglob(\"*.txt\"):\n",
    "        with open(txt_file, \"r\") as f:\n",
    "            lines = f.readlines()\n",
    "\n",
    "        new_lines = []\n",
    "        for line in lines:\n",
    "            parts = line.strip().split()\n",
    "            if len(parts) < 5:\n",
    "                continue  # skip invalid lines\n",
    "\n",
    "            try:\n",
    "                # Try numeric ID directly\n",
    "                old_id = int(parts[0])\n",
    "                class_name = classes[old_id]  # get from list\n",
    "            except:\n",
    "                # If ID is not numeric, it's probably a name\n",
    "                class_name = parts[0].lower()\n",
    "\n",
    "            # Normalize to lowercase\n",
    "            class_name = class_name.lower()\n",
    "\n",
    "            if class_name not in class_to_index:\n",
    "                print(f\"[WARNING] Class '{class_name}' not in final list, skipping in {txt_file}\")\n",
    "                continue\n",
    "\n",
    "            new_id = class_to_index[class_name]\n",
    "            parts[0] = str(new_id)\n",
    "            new_lines.append(\" \".join(parts))\n",
    "\n",
    "        with open(txt_file, \"w\") as f:\n",
    "            f.write(\"\\n\".join(new_lines))\n",
    "\n",
    "# Run for train, val, test\n",
    "for split in [\"train\", \"valid\", \"test\"]:\n",
    "    labels_path = dataset_dir / split / \"labels\"\n",
    "    if labels_path.exists():\n",
    "        fix_labels(labels_path)\n",
    "\n",
    "print(\"✅ Label files fixed and reindexed.\")"
   ]
  },
  {
   "cell_type": "code",
   "execution_count": null,
   "id": "864fe608-15c5-4691-89fc-b8b712eeffeb",
   "metadata": {},
   "outputs": [],
   "source": [
    "!python train.py --img 640 --batch 16 --epochs 50 --data \"C:/Users/Rupam Manna/Desktop/e_waste_yolov5/merged_dataset/data.yaml\" --weights yolov5s.pt --name e_waste_model"
   ]
  },
  {
   "cell_type": "code",
   "execution_count": 3,
   "id": "203444b8-e1a6-400d-8c85-868ec8b6e00f",
   "metadata": {},
   "outputs": [
    {
     "name": "stdout",
     "output_type": "stream",
     "text": [
      "CUDA available: True\n",
      "Device: NVIDIA GeForce RTX 3050 Laptop GPU\n"
     ]
    }
   ],
   "source": [
    "import torch\n",
    "print(\"CUDA available:\", torch.cuda.is_available())\n",
    "print(\"Device:\", torch.cuda.get_device_name(0) if torch.cuda.is_available() else \"CPU\")\n",
    "\n",
    "# Then run your training command with -u as above.\n"
   ]
  },
  {
   "cell_type": "code",
   "execution_count": 7,
   "id": "1c417a14-c0c9-47b2-ade1-111d257bcb23",
   "metadata": {},
   "outputs": [
    {
     "name": "stdout",
     "output_type": "stream",
     "text": [
      "^C\n"
     ]
    }
   ],
   "source": [
    "!python -u train.py --img 640 --batch 16 --epochs 50 --data \"C:/Users/Rupam Manna/Desktop/e_waste_yolov5/merged_dataset/data.yaml\" --weights yolov5s.pt --name e_waste_model"
   ]
  },
  {
   "cell_type": "code",
   "execution_count": 5,
   "id": "53c65838-8613-4353-af42-426e6b36698f",
   "metadata": {},
   "outputs": [
    {
     "name": "stderr",
     "output_type": "stream",
     "text": [
      "'rm' is not recognized as an internal or external command,\n",
      "operable program or batch file.\n",
      "fatal: destination path 'yolov5' already exists and is not an empty directory.\n"
     ]
    },
    {
     "name": "stdout",
     "output_type": "stream",
     "text": [
      "Requirement already satisfied: gitpython>=3.1.30 in c:\\users\\rupam manna\\appdata\\local\\programs\\python\\python311\\lib\\site-packages (from -r requirements.txt (line 5)) (3.1.45)\n",
      "Requirement already satisfied: matplotlib>=3.3 in c:\\users\\rupam manna\\appdata\\local\\programs\\python\\python311\\lib\\site-packages (from -r requirements.txt (line 6)) (3.10.1)\n",
      "Requirement already satisfied: numpy>=1.23.5 in c:\\users\\rupam manna\\appdata\\local\\programs\\python\\python311\\lib\\site-packages (from -r requirements.txt (line 7)) (2.1.3)\n",
      "Requirement already satisfied: opencv-python>=4.1.1 in c:\\users\\rupam manna\\appdata\\local\\programs\\python\\python311\\lib\\site-packages (from -r requirements.txt (line 8)) (4.10.0.84)\n",
      "Requirement already satisfied: pillow>=10.3.0 in c:\\users\\rupam manna\\appdata\\local\\programs\\python\\python311\\lib\\site-packages (from -r requirements.txt (line 9)) (11.2.1)\n",
      "Requirement already satisfied: psutil in c:\\users\\rupam manna\\appdata\\local\\programs\\python\\python311\\lib\\site-packages (from -r requirements.txt (line 10)) (7.0.0)\n",
      "Requirement already satisfied: PyYAML>=5.3.1 in c:\\users\\rupam manna\\appdata\\local\\programs\\python\\python311\\lib\\site-packages (from -r requirements.txt (line 11)) (6.0.2)\n",
      "Requirement already satisfied: requests>=2.32.2 in c:\\users\\rupam manna\\appdata\\local\\programs\\python\\python311\\lib\\site-packages (from -r requirements.txt (line 12)) (2.32.3)\n",
      "Requirement already satisfied: scipy>=1.4.1 in c:\\users\\rupam manna\\appdata\\local\\programs\\python\\python311\\lib\\site-packages (from -r requirements.txt (line 13)) (1.15.2)\n",
      "Requirement already satisfied: thop>=0.1.1 in c:\\users\\rupam manna\\appdata\\local\\programs\\python\\python311\\lib\\site-packages (from -r requirements.txt (line 14)) (0.1.1.post2209072238)\n",
      "Requirement already satisfied: torch>=1.8.0 in c:\\users\\rupam manna\\appdata\\local\\programs\\python\\python311\\lib\\site-packages (from -r requirements.txt (line 15)) (2.5.1+cu121)\n",
      "Requirement already satisfied: torchvision>=0.9.0 in c:\\users\\rupam manna\\appdata\\local\\programs\\python\\python311\\lib\\site-packages (from -r requirements.txt (line 16)) (0.20.1+cu121)\n",
      "Requirement already satisfied: tqdm>=4.66.3 in c:\\users\\rupam manna\\appdata\\local\\programs\\python\\python311\\lib\\site-packages (from -r requirements.txt (line 17)) (4.67.1)\n",
      "Requirement already satisfied: ultralytics>=8.2.64 in c:\\users\\rupam manna\\appdata\\local\\programs\\python\\python311\\lib\\site-packages (from -r requirements.txt (line 18)) (8.3.176)\n",
      "Requirement already satisfied: pandas>=1.1.4 in c:\\users\\rupam manna\\appdata\\local\\programs\\python\\python311\\lib\\site-packages (from -r requirements.txt (line 27)) (2.2.3)\n",
      "Requirement already satisfied: seaborn>=0.11.0 in c:\\users\\rupam manna\\appdata\\local\\programs\\python\\python311\\lib\\site-packages (from -r requirements.txt (line 28)) (0.13.2)\n",
      "Requirement already satisfied: setuptools>=70.0.0 in c:\\users\\rupam manna\\appdata\\local\\programs\\python\\python311\\lib\\site-packages (from -r requirements.txt (line 42)) (80.9.0)\n",
      "Requirement already satisfied: gitdb<5,>=4.0.1 in c:\\users\\rupam manna\\appdata\\local\\programs\\python\\python311\\lib\\site-packages (from gitpython>=3.1.30->-r requirements.txt (line 5)) (4.0.12)\n",
      "Requirement already satisfied: contourpy>=1.0.1 in c:\\users\\rupam manna\\appdata\\local\\programs\\python\\python311\\lib\\site-packages (from matplotlib>=3.3->-r requirements.txt (line 6)) (1.3.2)\n",
      "Requirement already satisfied: cycler>=0.10 in c:\\users\\rupam manna\\appdata\\local\\programs\\python\\python311\\lib\\site-packages (from matplotlib>=3.3->-r requirements.txt (line 6)) (0.12.1)\n",
      "Requirement already satisfied: fonttools>=4.22.0 in c:\\users\\rupam manna\\appdata\\local\\programs\\python\\python311\\lib\\site-packages (from matplotlib>=3.3->-r requirements.txt (line 6)) (4.57.0)\n",
      "Requirement already satisfied: kiwisolver>=1.3.1 in c:\\users\\rupam manna\\appdata\\local\\programs\\python\\python311\\lib\\site-packages (from matplotlib>=3.3->-r requirements.txt (line 6)) (1.4.8)\n",
      "Requirement already satisfied: packaging>=20.0 in c:\\users\\rupam manna\\appdata\\local\\programs\\python\\python311\\lib\\site-packages (from matplotlib>=3.3->-r requirements.txt (line 6)) (25.0)\n",
      "Requirement already satisfied: pyparsing>=2.3.1 in c:\\users\\rupam manna\\appdata\\local\\programs\\python\\python311\\lib\\site-packages (from matplotlib>=3.3->-r requirements.txt (line 6)) (3.2.3)\n",
      "Requirement already satisfied: python-dateutil>=2.7 in c:\\users\\rupam manna\\appdata\\local\\programs\\python\\python311\\lib\\site-packages (from matplotlib>=3.3->-r requirements.txt (line 6)) (2.9.0.post0)\n",
      "Requirement already satisfied: charset-normalizer<4,>=2 in c:\\users\\rupam manna\\appdata\\local\\programs\\python\\python311\\lib\\site-packages (from requests>=2.32.2->-r requirements.txt (line 12)) (3.4.1)\n",
      "Requirement already satisfied: idna<4,>=2.5 in c:\\users\\rupam manna\\appdata\\local\\programs\\python\\python311\\lib\\site-packages (from requests>=2.32.2->-r requirements.txt (line 12)) (3.10)\n",
      "Requirement already satisfied: urllib3<3,>=1.21.1 in c:\\users\\rupam manna\\appdata\\local\\programs\\python\\python311\\lib\\site-packages (from requests>=2.32.2->-r requirements.txt (line 12)) (2.4.0)\n",
      "Requirement already satisfied: certifi>=2017.4.17 in c:\\users\\rupam manna\\appdata\\local\\programs\\python\\python311\\lib\\site-packages (from requests>=2.32.2->-r requirements.txt (line 12)) (2025.1.31)\n",
      "Requirement already satisfied: filelock in c:\\users\\rupam manna\\appdata\\local\\programs\\python\\python311\\lib\\site-packages (from torch>=1.8.0->-r requirements.txt (line 15)) (3.13.1)\n",
      "Requirement already satisfied: typing-extensions>=4.8.0 in c:\\users\\rupam manna\\appdata\\local\\programs\\python\\python311\\lib\\site-packages (from torch>=1.8.0->-r requirements.txt (line 15)) (4.13.2)\n",
      "Requirement already satisfied: networkx in c:\\users\\rupam manna\\appdata\\local\\programs\\python\\python311\\lib\\site-packages (from torch>=1.8.0->-r requirements.txt (line 15)) (3.5)\n",
      "Requirement already satisfied: jinja2 in c:\\users\\rupam manna\\appdata\\local\\programs\\python\\python311\\lib\\site-packages (from torch>=1.8.0->-r requirements.txt (line 15)) (3.1.6)\n",
      "Requirement already satisfied: fsspec in c:\\users\\rupam manna\\appdata\\local\\programs\\python\\python311\\lib\\site-packages (from torch>=1.8.0->-r requirements.txt (line 15)) (2024.6.1)\n",
      "Requirement already satisfied: sympy==1.13.1 in c:\\users\\rupam manna\\appdata\\local\\programs\\python\\python311\\lib\\site-packages (from torch>=1.8.0->-r requirements.txt (line 15)) (1.13.1)\n",
      "Requirement already satisfied: mpmath<1.4,>=1.1.0 in c:\\users\\rupam manna\\appdata\\local\\programs\\python\\python311\\lib\\site-packages (from sympy==1.13.1->torch>=1.8.0->-r requirements.txt (line 15)) (1.3.0)\n",
      "Requirement already satisfied: colorama in c:\\users\\rupam manna\\appdata\\local\\programs\\python\\python311\\lib\\site-packages (from tqdm>=4.66.3->-r requirements.txt (line 17)) (0.4.6)\n",
      "Requirement already satisfied: py-cpuinfo in c:\\users\\rupam manna\\appdata\\local\\programs\\python\\python311\\lib\\site-packages (from ultralytics>=8.2.64->-r requirements.txt (line 18)) (9.0.0)\n",
      "Requirement already satisfied: ultralytics-thop>=2.0.0 in c:\\users\\rupam manna\\appdata\\local\\programs\\python\\python311\\lib\\site-packages (from ultralytics>=8.2.64->-r requirements.txt (line 18)) (2.0.15)\n",
      "Requirement already satisfied: pytz>=2020.1 in c:\\users\\rupam manna\\appdata\\local\\programs\\python\\python311\\lib\\site-packages (from pandas>=1.1.4->-r requirements.txt (line 27)) (2025.2)\n",
      "Requirement already satisfied: tzdata>=2022.7 in c:\\users\\rupam manna\\appdata\\local\\programs\\python\\python311\\lib\\site-packages (from pandas>=1.1.4->-r requirements.txt (line 27)) (2025.2)\n",
      "Requirement already satisfied: smmap<6,>=3.0.1 in c:\\users\\rupam manna\\appdata\\local\\programs\\python\\python311\\lib\\site-packages (from gitdb<5,>=4.0.1->gitpython>=3.1.30->-r requirements.txt (line 5)) (5.0.2)\n",
      "Requirement already satisfied: six>=1.5 in c:\\users\\rupam manna\\appdata\\local\\programs\\python\\python311\\lib\\site-packages (from python-dateutil>=2.7->matplotlib>=3.3->-r requirements.txt (line 6)) (1.17.0)\n",
      "Requirement already satisfied: MarkupSafe>=2.0 in c:\\users\\rupam manna\\appdata\\local\\programs\\python\\python311\\lib\\site-packages (from jinja2->torch>=1.8.0->-r requirements.txt (line 15)) (3.0.2)\n"
     ]
    },
    {
     "name": "stderr",
     "output_type": "stream",
     "text": [
      "\n",
      "[notice] A new release of pip is available: 24.0 -> 25.2\n",
      "[notice] To update, run: python.exe -m pip install --upgrade pip\n"
     ]
    }
   ],
   "source": [
    "# Remove old folder if you want (be careful!)\n",
    "!rm -rf yolov5\n",
    "\n",
    "# Clone fresh copy\n",
    "!git clone https://github.com/ultralytics/yolov5.git\n",
    "\n",
    "# Change directory to yolov5\n",
    "import os\n",
    "os.chdir('yolov5')\n",
    "\n",
    "# Install requirements\n",
    "!pip install -r requirements.txt\n"
   ]
  },
  {
   "cell_type": "code",
   "execution_count": null,
   "id": "4bab9500-a5c4-4f6c-a69c-e51315bcc827",
   "metadata": {},
   "outputs": [],
   "source": []
  }
 ],
 "metadata": {
  "kernelspec": {
   "display_name": "Python 3 (ipykernel)",
   "language": "python",
   "name": "python3"
  },
  "language_info": {
   "codemirror_mode": {
    "name": "ipython",
    "version": 3
   },
   "file_extension": ".py",
   "mimetype": "text/x-python",
   "name": "python",
   "nbconvert_exporter": "python",
   "pygments_lexer": "ipython3",
   "version": "3.11.8"
  }
 },
 "nbformat": 4,
 "nbformat_minor": 5
}
